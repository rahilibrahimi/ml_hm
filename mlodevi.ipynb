{
  "metadata": {
    "language_info": {
      "name": ""
    },
    "kernelspec": {
      "name": "python",
      "display_name": "Python (Pyodide)",
      "language": "python"
    }
  },
  "nbformat_minor": 4,
  "nbformat": 4,
  "cells": [
    {
      "cell_type": "code",
      "source": "import numpy as np\nfrom sklearn.metrics import mean_squared_error\nfrom sklearn.preprocessing import StandardScaler, MinMaxScaler, RobustScaler",
      "metadata": {
        "trusted": true
      },
      "execution_count": null,
      "outputs": []
    },
    {
      "cell_type": "code",
      "source": "# Function to perform feature scaling using StandardScaler\ndef scale_standard(X):\n    scaler = StandardScaler()\n    X_scaled = scaler.fit_transform(X)\n    return X_scaled\n\n# Function to perform feature scaling using MinMaxScaler\ndef scale_minmax(X):\n    scaler = MinMaxScaler()\n    X_scaled = scaler.fit_transform(X)\n    return X_scaled\n\n# Function to perform feature scaling using RobustScaler\ndef scale_robust(X):\n    scaler = RobustScaler()\n    X_scaled = scaler.fit_transform(X)\n    return X_scaled\n\n# Function to calculate Mean Squared Error (MSE)\ndef calculate_mse(y_true, y_pred):\n    mse = mean_squared_error(y_true, y_pred)\n    return mse\n\n# Example usage:\nif __name__ == \"__main__\":\n    # Generate some example data\n    np.random.seed(0)\n    X = np.random.rand(100, 2)  # Sample features\n    y = 2 * X[:, 0] + 3 * X[:, 1] + np.random.randn(100)  # Sample target variable\n\n    # Perform scaling using StandardScaler\n    X_standard_scaled = scale_standard(X)\n    mse_standard = calculate_mse(y, X_standard_scaled[:, 0] + 2 * X_standard_scaled[:, 1])\n\n    # Perform scaling using MinMaxScaler\n    X_minmax_scaled = scale_minmax(X)\n    mse_minmax = calculate_mse(y, X_minmax_scaled[:, 0] + 2 * X_minmax_scaled[:, 1])\n\n    # Perform scaling using RobustScaler\n    X_robust_scaled = scale_robust(X)\n    mse_robust = calculate_mse(y, X_robust_scaled[:, 0] + 2 * X_robust_scaled[:, 1])\n\n    # Print MSE results for each scaling method\n    print(f\"MSE (StandardScaler): {mse_standard}\")\n    print(f\"MSE (MinMaxScaler): {mse_minmax}\")\n    print(f\"MSE (RobustScaler): {mse_robust}\")\n",
      "metadata": {
        "trusted": true
      },
      "execution_count": null,
      "outputs": []
    },
    {
      "cell_type": "code",
      "source": "",
      "metadata": {},
      "execution_count": null,
      "outputs": []
    }
  ]
}